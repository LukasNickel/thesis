{
 "cells": [
  {
   "cell_type": "code",
   "execution_count": 324,
   "metadata": {},
   "outputs": [],
   "source": [
    "import eventio\n",
    "import matplotlib.pylab as plt\n",
    "import matplotlib as mpl\n",
    "import numpy as np\n",
    "from astropy import units as u\n",
    "\n",
    "from ctapipe.io import event_source\n",
    "from ctapipe.utils import datasets\n",
    "from ctapipe.visualization import ArrayDisplay\n",
    "\n",
    "import yaml\n",
    "from aict_tools.io import read_data\n",
    "import itertools\n",
    "from astropy.coordinates.angle_utilities import angular_separation\n",
    "import pandas as pd"
   ]
  },
  {
   "cell_type": "code",
   "execution_count": 17,
   "metadata": {},
   "outputs": [],
   "source": [
    "mpl.use('PDF')\n",
    "mpl.rcParams.update(mpl.rcParamsDefault)"
   ]
  },
  {
   "cell_type": "code",
   "execution_count": 37,
   "metadata": {},
   "outputs": [],
   "source": [
    "%matplotlib inline"
   ]
  },
  {
   "cell_type": "code",
   "execution_count": 4,
   "metadata": {},
   "outputs": [],
   "source": [
    "f = '/net/cta-tank.app.tu-dortmund.de/POOL/projects/cta/PROD3/gammas/gamma_20deg_180deg_run19___cta-prod3_desert-2150m-Paranal-merged.simtel.gz'"
   ]
  },
  {
   "cell_type": "code",
   "execution_count": 6,
   "metadata": {},
   "outputs": [],
   "source": [
    "df = eventio.SimTelFile(f)"
   ]
  },
  {
   "cell_type": "code",
   "execution_count": 7,
   "metadata": {},
   "outputs": [
    {
     "data": {
      "text/plain": [
       "eventio.simtel.simtelfile.SimTelFile"
      ]
     },
     "execution_count": 7,
     "metadata": {},
     "output_type": "execute_result"
    }
   ],
   "source": [
    "type(df)"
   ]
  },
  {
   "cell_type": "code",
   "execution_count": 8,
   "metadata": {},
   "outputs": [
    {
     "data": {
      "text/plain": [
       "\u001b[0;31mType:\u001b[0m        SimTelFile\n",
       "\u001b[0;31mString form:\u001b[0m <eventio.simtel.simtelfile.SimTelFile object at 0x7f68d7f209b0>\n",
       "\u001b[0;31mFile:\u001b[0m        /scratch/lnickel/conda/envs/test2/lib/python3.6/site-packages/eventio/simtel/simtelfile.py\n",
       "\u001b[0;31mDocstring:\u001b[0m   <no docstring>\n"
      ]
     },
     "metadata": {},
     "output_type": "display_data"
    }
   ],
   "source": [
    "?df"
   ]
  },
  {
   "cell_type": "code",
   "execution_count": 9,
   "metadata": {},
   "outputs": [
    {
     "data": {
      "text/plain": [
       "['__class__',\n",
       " '__delattr__',\n",
       " '__dict__',\n",
       " '__dir__',\n",
       " '__doc__',\n",
       " '__enter__',\n",
       " '__eq__',\n",
       " '__exit__',\n",
       " '__format__',\n",
       " '__ge__',\n",
       " '__getattribute__',\n",
       " '__gt__',\n",
       " '__hash__',\n",
       " '__init__',\n",
       " '__init_subclass__',\n",
       " '__iter__',\n",
       " '__le__',\n",
       " '__lt__',\n",
       " '__module__',\n",
       " '__ne__',\n",
       " '__new__',\n",
       " '__next__',\n",
       " '__reduce__',\n",
       " '__reduce_ex__',\n",
       " '__repr__',\n",
       " '__setattr__',\n",
       " '__sizeof__',\n",
       " '__str__',\n",
       " '__subclasshook__',\n",
       " '__weakref__',\n",
       " '_filehandle',\n",
       " '_next_header_pos',\n",
       " 'allowed_telescopes',\n",
       " 'camera_monitorings',\n",
       " 'close',\n",
       " 'corsika_inputcards',\n",
       " 'current_array_event',\n",
       " 'current_calibration_event',\n",
       " 'current_mc_event',\n",
       " 'current_mc_shower',\n",
       " 'current_photoelectron_sum',\n",
       " 'current_photoelectrons',\n",
       " 'header',\n",
       " 'histograms',\n",
       " 'history',\n",
       " 'iter_array_events',\n",
       " 'iter_mc_events',\n",
       " 'laser_calibrations',\n",
       " 'mc_run_headers',\n",
       " 'n_telescopes',\n",
       " 'next_low_level',\n",
       " 'path',\n",
       " 'read',\n",
       " 'read_process',\n",
       " 'seek',\n",
       " 'skip_calibration',\n",
       " 'telescope_descriptions',\n",
       " 'tell',\n",
       " 'try_build_event',\n",
       " 'try_build_mc_event']"
      ]
     },
     "execution_count": 9,
     "metadata": {},
     "output_type": "execute_result"
    }
   ],
   "source": [
    "dir(df)"
   ]
  },
  {
   "cell_type": "code",
   "execution_count": 155,
   "metadata": {},
   "outputs": [
    {
     "data": {
      "text/plain": [
       "{'run': 19,\n",
       " 'time': 1467456636,\n",
       " 'run_type': -1,\n",
       " 'tracking_mode': 0,\n",
       " 'reverse_flag': 0,\n",
       " 'direction': array([3.1415927, 1.2217305], dtype=float32),\n",
       " 'offset_fov': array([0., 0.], dtype=float32),\n",
       " 'conv_depth': 0.0,\n",
       " 'conv_ref_pos': array([0., 0.], dtype=float32),\n",
       " 'n_telescopes': 567,\n",
       " 'tel_id': array([  1,   2,   3,   4,   5,   6,   7,   8,   9,  10,  11,  12,  13,\n",
       "         14,  15,  16,  17,  18,  19,  20,  21,  22,  23,  24,  25,  26,\n",
       "         27,  28,  29,  30,  31,  32,  33,  34,  35,  36,  37,  38,  39,\n",
       "         40,  41,  42,  43,  44,  45,  46,  47,  48,  49,  50,  51,  52,\n",
       "         53,  54,  55,  56,  57,  58,  59,  60,  61,  62,  63,  64,  65,\n",
       "         66,  67,  68,  69,  70,  71,  72,  73,  74,  75,  76,  77,  78,\n",
       "         79,  80,  81,  82,  83,  84,  85,  86,  87,  88,  89,  90,  91,\n",
       "         92,  93,  94,  95,  96,  97,  98,  99, 100, 101, 102, 103, 104,\n",
       "        105, 106, 107, 108, 109, 110, 111, 112, 113, 114, 115, 116, 117,\n",
       "        118, 119, 120, 121, 122, 123, 124, 125, 126, 127, 128, 129, 130,\n",
       "        131, 132, 133, 134, 135, 136, 137, 138, 139, 140, 141, 142, 143,\n",
       "        144, 145, 146, 147, 148, 149, 150, 151, 152, 153, 154, 155, 156,\n",
       "        157, 158, 159, 160, 161, 162, 163, 164, 165, 166, 167, 168, 169,\n",
       "        170, 171, 172, 173, 174, 175, 176, 177, 178, 179, 180, 181, 182,\n",
       "        183, 184, 185, 186, 187, 188, 189, 190, 191, 192, 193, 194, 195,\n",
       "        196, 197, 198, 199, 200, 201, 202, 203, 204, 205, 206, 207, 208,\n",
       "        209, 210, 211, 212, 213, 214, 215, 216, 217, 218, 219, 220, 221,\n",
       "        222, 223, 224, 225, 226, 227, 228, 229, 230, 231, 232, 233, 234,\n",
       "        235, 236, 237, 238, 239, 240, 241, 242, 243, 244, 245, 246, 247,\n",
       "        248, 249, 250, 251, 252, 253, 254, 255, 256, 257, 258, 259, 260,\n",
       "        261, 262, 263, 264, 265, 266, 267, 268, 269, 270, 271, 272, 273,\n",
       "        274, 275, 276, 277, 278, 279, 280, 281, 282, 283, 284, 285, 286,\n",
       "        287, 288, 289, 290, 291, 292, 293, 294, 295, 296, 297, 298, 299,\n",
       "        300, 301, 302, 303, 304, 305, 306, 307, 308, 309, 310, 311, 312,\n",
       "        313, 314, 315, 316, 317, 318, 319, 320, 321, 322, 323, 324, 325,\n",
       "        326, 327, 328, 329, 330, 331, 332, 333, 334, 335, 336, 337, 338,\n",
       "        339, 340, 341, 342, 343, 344, 345, 346, 347, 348, 349, 350, 351,\n",
       "        352, 353, 354, 355, 356, 357, 358, 359, 360, 361, 362, 363, 364,\n",
       "        365, 366, 367, 368, 369, 370, 371, 372, 373, 374, 375, 376, 377,\n",
       "        378, 379, 380, 381, 382, 383, 384, 385, 386, 387, 388, 389, 390,\n",
       "        391, 392, 393, 394, 395, 396, 397, 398, 399, 400, 401, 402, 403,\n",
       "        404, 405, 406, 407, 408, 409, 410, 411, 412, 413, 414, 415, 416,\n",
       "        417, 418, 419, 420, 421, 422, 423, 424, 425, 426, 427, 428, 429,\n",
       "        430, 431, 432, 433, 434, 435, 436, 437, 438, 439, 440, 441, 442,\n",
       "        443, 444, 445, 446, 447, 448, 449, 450, 451, 452, 453, 454, 455,\n",
       "        456, 457, 458, 459, 460, 461, 462, 463, 464, 465, 466, 467, 468,\n",
       "        469, 470, 471, 472, 473, 474, 475, 476, 477, 478, 479, 480, 481,\n",
       "        482, 483, 484, 485, 486, 487, 488, 489, 490, 491, 492, 493, 494,\n",
       "        495, 496, 497, 498, 499, 500, 501, 502, 503, 504, 505, 506, 507,\n",
       "        508, 509, 510, 511, 512, 513, 514, 515, 516, 517, 518, 519, 520,\n",
       "        521, 522, 523, 524, 525, 526, 527, 528, 529, 530, 531, 532, 533,\n",
       "        534, 535, 536, 537, 538, 539, 540, 541, 542, 543, 544, 545, 546,\n",
       "        547, 548, 549, 550, 551, 552, 553, 554, 555, 556, 557, 558, 559,\n",
       "        560, 561, 562, 563, 564, 565, 566, 567], dtype=int16),\n",
       " 'tel_pos': array([[   75.161 ,     0.    ,    16.    ],\n",
       "        [  -37.581 ,    58.117 ,    16.    ],\n",
       "        [  -37.581 ,   -58.117 ,    16.    ],\n",
       "        ...,\n",
       "        [ 1112.6271,  -573.55  ,     5.    ],\n",
       "        [-1112.6271,   573.55  ,     5.    ],\n",
       "        [-1112.6271,  -573.55  ,     5.    ]], dtype=float32),\n",
       " 'min_tel_trig': 1,\n",
       " 'duration': 1,\n",
       " 'target': b'Monte Carlo beach',\n",
       " 'observer': b'ctaprd@wn-206-07-01-01-a.cr.cnaf.infn.it'}"
      ]
     },
     "execution_count": 155,
     "metadata": {},
     "output_type": "execute_result"
    }
   ],
   "source": [
    "df.header"
   ]
  },
  {
   "cell_type": "code",
   "execution_count": null,
   "metadata": {},
   "outputs": [],
   "source": []
  },
  {
   "cell_type": "code",
   "execution_count": null,
   "metadata": {},
   "outputs": [],
   "source": []
  },
  {
   "cell_type": "code",
   "execution_count": null,
   "metadata": {},
   "outputs": [],
   "source": []
  },
  {
   "cell_type": "code",
   "execution_count": 47,
   "metadata": {},
   "outputs": [],
   "source": [
    "positions = df.header['tel_pos']"
   ]
  },
  {
   "cell_type": "code",
   "execution_count": 46,
   "metadata": {},
   "outputs": [],
   "source": [
    "telescopes = df.header['tel_id']"
   ]
  },
  {
   "cell_type": "code",
   "execution_count": 28,
   "metadata": {},
   "outputs": [],
   "source": [
    "with open('config/preprocessing_config.yaml') as f:\n",
    "    config = yaml.safe_load(f)"
   ]
  },
  {
   "cell_type": "code",
   "execution_count": 31,
   "metadata": {},
   "outputs": [],
   "source": [
    "array_ids = config['allowed_ids']"
   ]
  },
  {
   "cell_type": "code",
   "execution_count": 18,
   "metadata": {},
   "outputs": [
    {
     "name": "stdout",
     "output_type": "stream",
     "text": [
      "Now setting vectors\n"
     ]
    },
    {
     "name": "stderr",
     "output_type": "stream",
     "text": [
      "/scratch/lnickel/conda/envs/test2/lib/python3.6/site-packages/matplotlib/figure.py:445: UserWarning: Matplotlib is currently using pdf, which is a non-GUI backend, so cannot show the figure.\n",
      "  % get_backend())\n",
      "/scratch/lnickel/conda/envs/test2/lib/python3.6/site-packages/matplotlib/tight_layout.py:231: UserWarning: tight_layout : falling back to Agg renderer\n",
      "  warnings.warn(\"tight_layout : falling back to Agg renderer\")\n"
     ]
    },
    {
     "ename": "AttributeError",
     "evalue": "'FigureCanvasAgg' object has no attribute 'manager'\nFigure.show works only for figures managed by pyplot, normally created by pyplot.figure().",
     "output_type": "error",
     "traceback": [
      "\u001b[0;31m-----------------------------------------------------\u001b[0m",
      "\u001b[0;31mAttributeError\u001b[0m      Traceback (most recent call last)",
      "\u001b[0;32m/scratch/lnickel/conda/envs/test2/lib/python3.6/site-packages/matplotlib/figure.py\u001b[0m in \u001b[0;36mshow\u001b[0;34m(self, warn)\u001b[0m\n\u001b[1;32m    427\u001b[0m         \u001b[0;32mtry\u001b[0m\u001b[0;34m:\u001b[0m\u001b[0;34m\u001b[0m\u001b[0;34m\u001b[0m\u001b[0m\n\u001b[0;32m--> 428\u001b[0;31m             \u001b[0mmanager\u001b[0m \u001b[0;34m=\u001b[0m \u001b[0mgetattr\u001b[0m\u001b[0;34m(\u001b[0m\u001b[0mself\u001b[0m\u001b[0;34m.\u001b[0m\u001b[0mcanvas\u001b[0m\u001b[0;34m,\u001b[0m \u001b[0;34m'manager'\u001b[0m\u001b[0;34m)\u001b[0m\u001b[0;34m\u001b[0m\u001b[0;34m\u001b[0m\u001b[0m\n\u001b[0m\u001b[1;32m    429\u001b[0m         \u001b[0;32mexcept\u001b[0m \u001b[0mAttributeError\u001b[0m \u001b[0;32mas\u001b[0m \u001b[0merr\u001b[0m\u001b[0;34m:\u001b[0m\u001b[0;34m\u001b[0m\u001b[0;34m\u001b[0m\u001b[0m\n",
      "\u001b[0;31mAttributeError\u001b[0m: 'FigureCanvasAgg' object has no attribute 'manager'",
      "\nDuring handling of the above exception, another exception occurred:\n",
      "\u001b[0;31mAttributeError\u001b[0m      Traceback (most recent call last)",
      "\u001b[0;32m<ipython-input-18-9f5ca7ad3f2a>\u001b[0m in \u001b[0;36m<module>\u001b[0;34m\u001b[0m\n\u001b[1;32m     16\u001b[0m     \u001b[0mr\u001b[0m \u001b[0;34m=\u001b[0m \u001b[0mnp\u001b[0m\u001b[0;34m.\u001b[0m\u001b[0mcos\u001b[0m\u001b[0;34m(\u001b[0m\u001b[0mphi\u001b[0m \u001b[0;34m/\u001b[0m \u001b[0;36m2\u001b[0m\u001b[0;34m)\u001b[0m\u001b[0;34m\u001b[0m\u001b[0;34m\u001b[0m\u001b[0m\n\u001b[1;32m     17\u001b[0m     \u001b[0mad\u001b[0m\u001b[0;34m.\u001b[0m\u001b[0mset_vector_rho_phi\u001b[0m\u001b[0;34m(\u001b[0m\u001b[0mr\u001b[0m\u001b[0;34m,\u001b[0m \u001b[0mphi\u001b[0m\u001b[0;34m)\u001b[0m\u001b[0;34m\u001b[0m\u001b[0;34m\u001b[0m\u001b[0m\n\u001b[0;32m---> 18\u001b[0;31m     \u001b[0mplt\u001b[0m\u001b[0;34m.\u001b[0m\u001b[0mpause\u001b[0m\u001b[0;34m(\u001b[0m\u001b[0;36m0.01\u001b[0m\u001b[0;34m)\u001b[0m\u001b[0;34m\u001b[0m\u001b[0;34m\u001b[0m\u001b[0m\n\u001b[0m\u001b[1;32m     19\u001b[0m \u001b[0;34m\u001b[0m\u001b[0m\n\u001b[1;32m     20\u001b[0m \u001b[0mad\u001b[0m\u001b[0;34m.\u001b[0m\u001b[0mset_vector_rho_phi\u001b[0m\u001b[0;34m(\u001b[0m\u001b[0;36m0\u001b[0m\u001b[0;34m,\u001b[0m \u001b[0;36m0\u001b[0m \u001b[0;34m*\u001b[0m \u001b[0mu\u001b[0m\u001b[0;34m.\u001b[0m\u001b[0mdeg\u001b[0m\u001b[0;34m)\u001b[0m\u001b[0;34m\u001b[0m\u001b[0;34m\u001b[0m\u001b[0m\n",
      "\u001b[0;32m/scratch/lnickel/conda/envs/test2/lib/python3.6/site-packages/matplotlib/pyplot.py\u001b[0m in \u001b[0;36mpause\u001b[0;34m(interval)\u001b[0m\n\u001b[1;32m    292\u001b[0m         \u001b[0;32mif\u001b[0m \u001b[0mcanvas\u001b[0m\u001b[0;34m.\u001b[0m\u001b[0mfigure\u001b[0m\u001b[0;34m.\u001b[0m\u001b[0mstale\u001b[0m\u001b[0;34m:\u001b[0m\u001b[0;34m\u001b[0m\u001b[0;34m\u001b[0m\u001b[0m\n\u001b[1;32m    293\u001b[0m             \u001b[0mcanvas\u001b[0m\u001b[0;34m.\u001b[0m\u001b[0mdraw_idle\u001b[0m\u001b[0;34m(\u001b[0m\u001b[0;34m)\u001b[0m\u001b[0;34m\u001b[0m\u001b[0;34m\u001b[0m\u001b[0m\n\u001b[0;32m--> 294\u001b[0;31m         \u001b[0mshow\u001b[0m\u001b[0;34m(\u001b[0m\u001b[0mblock\u001b[0m\u001b[0;34m=\u001b[0m\u001b[0;32mFalse\u001b[0m\u001b[0;34m)\u001b[0m\u001b[0;34m\u001b[0m\u001b[0;34m\u001b[0m\u001b[0m\n\u001b[0m\u001b[1;32m    295\u001b[0m         \u001b[0mcanvas\u001b[0m\u001b[0;34m.\u001b[0m\u001b[0mstart_event_loop\u001b[0m\u001b[0;34m(\u001b[0m\u001b[0minterval\u001b[0m\u001b[0;34m)\u001b[0m\u001b[0;34m\u001b[0m\u001b[0;34m\u001b[0m\u001b[0m\n\u001b[1;32m    296\u001b[0m     \u001b[0;32melse\u001b[0m\u001b[0;34m:\u001b[0m\u001b[0;34m\u001b[0m\u001b[0;34m\u001b[0m\u001b[0m\n",
      "\u001b[0;32m/scratch/lnickel/conda/envs/test2/lib/python3.6/site-packages/matplotlib/pyplot.py\u001b[0m in \u001b[0;36mshow\u001b[0;34m(*args, **kw)\u001b[0m\n\u001b[1;32m    252\u001b[0m     \"\"\"\n\u001b[1;32m    253\u001b[0m     \u001b[0;32mglobal\u001b[0m \u001b[0m_show\u001b[0m\u001b[0;34m\u001b[0m\u001b[0;34m\u001b[0m\u001b[0m\n\u001b[0;32m--> 254\u001b[0;31m     \u001b[0;32mreturn\u001b[0m \u001b[0m_show\u001b[0m\u001b[0;34m(\u001b[0m\u001b[0;34m*\u001b[0m\u001b[0margs\u001b[0m\u001b[0;34m,\u001b[0m \u001b[0;34m**\u001b[0m\u001b[0mkw\u001b[0m\u001b[0;34m)\u001b[0m\u001b[0;34m\u001b[0m\u001b[0;34m\u001b[0m\u001b[0m\n\u001b[0m\u001b[1;32m    255\u001b[0m \u001b[0;34m\u001b[0m\u001b[0m\n\u001b[1;32m    256\u001b[0m \u001b[0;34m\u001b[0m\u001b[0m\n",
      "\u001b[0;32m/scratch/lnickel/conda/envs/test2/lib/python3.6/site-packages/matplotlib/backend_bases.py\u001b[0m in \u001b[0;36mshow\u001b[0;34m(cls, block)\u001b[0m\n\u001b[1;32m   3246\u001b[0m         \u001b[0;32mfor\u001b[0m \u001b[0mmanager\u001b[0m \u001b[0;32min\u001b[0m \u001b[0mmanagers\u001b[0m\u001b[0;34m:\u001b[0m\u001b[0;34m\u001b[0m\u001b[0;34m\u001b[0m\u001b[0m\n\u001b[1;32m   3247\u001b[0m             \u001b[0;31m# Emits a warning if the backend is non-interactive.\u001b[0m\u001b[0;34m\u001b[0m\u001b[0;34m\u001b[0m\u001b[0;34m\u001b[0m\u001b[0m\n\u001b[0;32m-> 3248\u001b[0;31m             \u001b[0mmanager\u001b[0m\u001b[0;34m.\u001b[0m\u001b[0mcanvas\u001b[0m\u001b[0;34m.\u001b[0m\u001b[0mfigure\u001b[0m\u001b[0;34m.\u001b[0m\u001b[0mshow\u001b[0m\u001b[0;34m(\u001b[0m\u001b[0;34m)\u001b[0m\u001b[0;34m\u001b[0m\u001b[0;34m\u001b[0m\u001b[0m\n\u001b[0m\u001b[1;32m   3249\u001b[0m         \u001b[0;32mif\u001b[0m \u001b[0mcls\u001b[0m\u001b[0;34m.\u001b[0m\u001b[0mmainloop\u001b[0m \u001b[0;32mis\u001b[0m \u001b[0;32mNone\u001b[0m\u001b[0;34m:\u001b[0m\u001b[0;34m\u001b[0m\u001b[0;34m\u001b[0m\u001b[0m\n\u001b[1;32m   3250\u001b[0m             \u001b[0;32mreturn\u001b[0m\u001b[0;34m\u001b[0m\u001b[0;34m\u001b[0m\u001b[0m\n",
      "\u001b[0;32m/scratch/lnickel/conda/envs/test2/lib/python3.6/site-packages/matplotlib/figure.py\u001b[0m in \u001b[0;36mshow\u001b[0;34m(self, warn)\u001b[0m\n\u001b[1;32m    431\u001b[0m                                  \u001b[0;34m\"Figure.show works only \"\u001b[0m\u001b[0;34m\u001b[0m\u001b[0;34m\u001b[0m\u001b[0m\n\u001b[1;32m    432\u001b[0m                                  \u001b[0;34m\"for figures managed by pyplot, normally \"\u001b[0m\u001b[0;34m\u001b[0m\u001b[0;34m\u001b[0m\u001b[0m\n\u001b[0;32m--> 433\u001b[0;31m                                  \"created by pyplot.figure().\" % err)\n\u001b[0m\u001b[1;32m    434\u001b[0m \u001b[0;34m\u001b[0m\u001b[0m\n\u001b[1;32m    435\u001b[0m         \u001b[0;32mif\u001b[0m \u001b[0mmanager\u001b[0m \u001b[0;32mis\u001b[0m \u001b[0;32mnot\u001b[0m \u001b[0;32mNone\u001b[0m\u001b[0;34m:\u001b[0m\u001b[0;34m\u001b[0m\u001b[0;34m\u001b[0m\u001b[0m\n",
      "\u001b[0;31mAttributeError\u001b[0m: 'FigureCanvasAgg' object has no attribute 'manager'\nFigure.show works only for figures managed by pyplot, normally created by pyplot.figure()."
     ]
    },
    {
     "data": {
      "image/png": "[encoded data removed]",
      "text/plain": [
       "<Figure size 640x480 with 1 Axes>"
      ]
     },
     "metadata": {},
     "output_type": "display_data"
    }
   ],
   "source": [
    "source = event_source(\n",
    "        datasets.get_dataset_path(\"gamma_test_large.simtel.gz\"), max_events=1,\n",
    "    )\n",
    "\n",
    "event = next(iter(source))\n",
    "\n",
    "    # display the array\n",
    "subarray = event.inst.subarray\n",
    "ad = ArrayDisplay(subarray, tel_scale=3.0)\n",
    "\n",
    "print(\"Now setting vectors\")\n",
    "plt.pause(1.0)\n",
    "plt.tight_layout()\n",
    "\n",
    "for phi in np.linspace(0, 360, 30) * u.deg:\n",
    "    r = np.cos(phi / 2)\n",
    "    ad.set_vector_rho_phi(r, phi)\n",
    "    plt.pause(0.01)\n",
    "\n",
    "ad.set_vector_rho_phi(0, 0 * u.deg)\n",
    "plt.pause(1.0)\n",
    "\n",
    "print(\"Now setting values\")\n",
    "ad.telescopes.set_linewidth(0)\n",
    "for ii in range(50):\n",
    "    vals = np.random.uniform(100.0, size=subarray.num_tels)\n",
    "    ad.values = vals\n",
    "    plt.pause(0.01)\n",
    "\n",
    "print(\"Setting labels\")\n",
    "for ii in range(3):\n",
    "    ad.add_labels()\n",
    "    plt.pause(0.5)\n",
    "    ad.remove_labels()\n",
    "    plt.pause(0.5)"
   ]
  },
  {
   "cell_type": "code",
   "execution_count": 54,
   "metadata": {},
   "outputs": [
    {
     "data": {
      "image/png": "[encoded data removed]",
      "text/plain": [
       "<Figure size 576x576 with 1 Axes>"
      ]
     },
     "metadata": {
      "needs_background": "light"
     },
     "output_type": "display_data"
    }
   ],
   "source": [
    "plt.figure(figsize=(8,8))\n",
    "for index, tel in enumerate(telescopes):\n",
    "    if tel in array_ids:\n",
    "        if (positions[index][2]) == 16:\n",
    "            formatter = 'go'\n",
    "        elif (positions[index][2]) == 10:\n",
    "            formatter = 'bo'\n",
    "        else:\n",
    "            formatter = 'yo'\n",
    "        plt.plot(positions[index][0], positions[index][1], formatter)\n"
   ]
  },
  {
   "cell_type": "code",
   "execution_count": 60,
   "metadata": {},
   "outputs": [],
   "source": [
    "dl2_t = read_data('dl2/gamma_dl2.hdf5', key = 'telescope_events')\n",
    "dl2_a = read_data('dl2/gamma_dl2.hdf5', key = 'array_events')\n",
    "run = read_data('dl2/gamma_dl2.hdf5', key = 'runs')"
   ]
  },
  {
   "cell_type": "code",
   "execution_count": 62,
   "metadata": {},
   "outputs": [
    {
     "data": {
      "text/plain": [
       "Index(['array_event_id', 'camera_type_id', 'concentration_cog',\n",
       "       'concentration_core', 'concentration_pixel', 'deviation',\n",
       "       'disp_prediction', 'distance_to_reconstructed_core_position',\n",
       "       'focal_length', 'gamma_prediction', 'gamma_prediction_mean',\n",
       "       'intensity', 'intercept', 'intercept_err', 'kurtosis',\n",
       "       'leakage1_intensity', 'leakage1_pixel', 'leakage2_intensity',\n",
       "       'leakage2_pixel', 'length', 'mirror_area', 'num_islands',\n",
       "       'num_pixel_in_shower', 'phi', 'pointing_altitude', 'pointing_azimuth',\n",
       "       'psi', 'r', 'run_id', 'skewness', 'slope', 'slope_err',\n",
       "       'source_alt_prediction', 'source_alt_prediction_2',\n",
       "       'source_az_prediction', 'source_az_prediction_2', 'source_x_prediction',\n",
       "       'source_x_prediction_2', 'source_y_prediction', 'source_y_prediction_2',\n",
       "       'telescope_id', 'telescope_type_id', 'width', 'x', 'y'],\n",
       "      dtype='object')"
      ]
     },
     "execution_count": 62,
     "metadata": {},
     "output_type": "execute_result"
    }
   ],
   "source": [
    "dl2_t.keys()"
   ]
  },
  {
   "cell_type": "code",
   "execution_count": 70,
   "metadata": {},
   "outputs": [],
   "source": [
    "test_event = dl2_a.iloc[10]"
   ]
  },
  {
   "cell_type": "code",
   "execution_count": 136,
   "metadata": {},
   "outputs": [
    {
     "data": {
      "text/plain": [
       "Index(['mc_atmosphere', 'mc_core_pos_mode', 'mc_corsika_bunchsize',\n",
       "       'mc_corsika_high_E_detail', 'mc_corsika_high_E_model',\n",
       "       'mc_corsika_iact_options', 'mc_corsika_low_E_detail',\n",
       "       'mc_corsika_low_E_model', 'mc_corsika_version', 'mc_corsika_wlen_max',\n",
       "       'mc_corsika_wlen_min', 'mc_detector_prog_id', 'mc_detector_prog_start',\n",
       "       'mc_diffuse', 'mc_energy_range_max', 'mc_energy_range_min',\n",
       "       'mc_injection_height', 'mc_max_alt', 'mc_max_az',\n",
       "       'mc_max_scatter_range', 'mc_max_viewcone_radius', 'mc_min_alt',\n",
       "       'mc_min_az', 'mc_min_scatter_range', 'mc_min_viewcone_radius',\n",
       "       'mc_num_showers', 'mc_prod_site_B_declination',\n",
       "       'mc_prod_site_B_inclination', 'mc_prod_site_B_total',\n",
       "       'mc_prod_site_alt', 'mc_run_array_direction', 'mc_shower_prog_id',\n",
       "       'mc_shower_prog_start', 'mc_shower_reuse', 'mc_simtel_version',\n",
       "       'mc_spectral_index', 'run_id'],\n",
       "      dtype='object')"
      ]
     },
     "execution_count": 136,
     "metadata": {},
     "output_type": "execute_result"
    }
   ],
   "source": [
    "run.keys()"
   ]
  },
  {
   "cell_type": "code",
   "execution_count": 72,
   "metadata": {
    "scrolled": true
   },
   "outputs": [
    {
     "data": {
      "text/plain": [
       "alt                                 69.9992\n",
       "alt_uncert                         0.482534\n",
       "array_event_id                        32501\n",
       "average_intensity                   231.095\n",
       "az                                  -180.13\n",
       "az_uncert                               NaN\n",
       "core_uncert                             NaN\n",
       "core_x                              280.511\n",
       "core_y                              175.039\n",
       "gamma_prediction_mean              0.781111\n",
       "gamma_prediction_std               0.236548\n",
       "goodness_of_fit                         NaN\n",
       "h_max                               9918.78\n",
       "h_max_uncert                            NaN\n",
       "is_valid                               True\n",
       "mc_alt                                   70\n",
       "mc_az                                   180\n",
       "mc_core_x                           284.652\n",
       "mc_core_y                           140.674\n",
       "mc_energy                          0.253813\n",
       "mc_h_first_int                        30264\n",
       "mc_shower_primary_id                      0\n",
       "mc_x_max                                240\n",
       "num_pairs_10.0                           42\n",
       "num_triggered_lst                         2\n",
       "num_triggered_mst                         6\n",
       "num_triggered_sst                         0\n",
       "num_triggered_telescopes                  8\n",
       "run_id                                   61\n",
       "source_alt_mean                     70.4561\n",
       "source_alt_median                   70.0995\n",
       "source_alt_pairwise_mean_10.0       70.0334\n",
       "source_alt_pairwise_median_10.0     70.0672\n",
       "source_alt_std                     0.819619\n",
       "source_az_mean                      181.751\n",
       "source_az_median                    180.065\n",
       "source_az_pairwise_mean_10.0        179.716\n",
       "source_az_pairwise_median_10.0      179.833\n",
       "source_az_std                       3.50571\n",
       "total_intensity                     1617.66\n",
       "Name: 10, dtype: object"
      ]
     },
     "execution_count": 72,
     "metadata": {},
     "output_type": "execute_result"
    }
   ],
   "source": [
    "test_event"
   ]
  },
  {
   "cell_type": "code",
   "execution_count": 143,
   "metadata": {},
   "outputs": [],
   "source": [
    "\n",
    "from astropy.coordinates import SkyCoord, AltAz\n",
    "from ctapipe.coordinates import (\n",
    "    NominalFrame,\n",
    "    CameraFrame,\n",
    "    TiltedGroundFrame,\n",
    "    project_to_ground,\n",
    "    GroundFrame,\n",
    "    MissingFrameAttributeWarning\n",
    ")"
   ]
  },
  {
   "cell_type": "code",
   "execution_count": 443,
   "metadata": {},
   "outputs": [],
   "source": [
    "def plot_event(event):\n",
    "    plt.figure(figsize=(10,10))\n",
    "    plt.xlim(-1,3)\n",
    "    plt.ylim(-1,3)\n",
    "    array_id = test_event.array_event_id\n",
    "    run_id = test_event.run_id\n",
    "    tel_events = dl2_t[(dl2_t['array_event_id'] == array_id) & (dl2_t['run_id'] == run_id)]\n",
    "    #print(tel_events)\n",
    "    #print(tel_events.iloc[0])\n",
    "    #print(1/0)\n",
    "    tel_ids = tel_events.telescope_id.values.astype(int)\n",
    "    #print(tel_ids)\n",
    "    tel_positions = positions[tel_ids]\n",
    "    tel_pointings_alt = tel_events['pointing_altitude']\n",
    "    tel_pointings_az = tel_events['pointing_azimuth']\n",
    "    \n",
    "    run_info = run[run['run_id'] == run_id]\n",
    "    horizon_frame = AltAz()\n",
    "    array_dir = run_info['mc_run_array_direction']\n",
    "    array_dir = ((180*u.deg).to('rad'), (70*u.deg).to('rad')) # preprocessing sets this to 0????\n",
    "    #print('array_dir: ', array_dir, type(array_dir))\n",
    "    array_pointing = SkyCoord(\n",
    "        az=array_dir[0],\n",
    "        alt=array_dir[1],\n",
    "        frame=horizon_frame,\n",
    "    )\n",
    "    #print('array:', array_pointing)\n",
    "    \n",
    "    grd_coord = GroundFrame(x=tel_positions[:, 0],\n",
    "                            y=tel_positions[:, 1],\n",
    "                            z=tel_positions[:, 2])\n",
    "    tilted_frame = TiltedGroundFrame(pointing_direction=array_pointing)\n",
    "    tilt_coord = grd_coord.transform_to(tilted_frame)\n",
    "    #print(grd_coord.x)\n",
    "    #print(dir(tilt_coord))\n",
    "    #print(tilt_coord.spherical)\n",
    "    #print(tel_positions)\n",
    "    #for x,y in zip(tilt_coord.x, tilt_coord.y):\n",
    "    #    print(x,y)\n",
    "    #    plt.plot(x,y, 'kx')\n",
    "    \n",
    "    nom_frame = NominalFrame(origin=array_pointing)\n",
    "    alt_preds = []\n",
    "    az_preds = []\n",
    "    tel_pointings = SkyCoord(alt = (tel_events.pointing_altitude*u.rad), az = (tel_events.pointing_azimuth*u.rad), frame = horizon_frame)\n",
    "\n",
    "    i = 0\n",
    "    for _, tel in tel_events.iterrows():\n",
    "        focal_length = tel.focal_length\n",
    "        pointing = tel_pointings[i]\n",
    "        camera_frame = CameraFrame(\n",
    "            telescope_pointing=pointing,\n",
    "            focal_length=focal_length * u.m,\n",
    "        )\n",
    "        disp1_camera = SkyCoord(x=tel.source_x_prediction*u.m, y=tel.source_y_prediction*u.m, frame=camera_frame)\n",
    "        disp2_camera = SkyCoord(x=tel.source_x_prediction_2*u.m, y=tel.source_y_prediction_2*u.m, frame=camera_frame)\n",
    "        camera_pointing = SkyCoord(x=0*u.m, y=0*u.m, frame=camera_frame)\n",
    "     \n",
    "        #plt.plot(tel_position[0], tel_position[1], 'ro')\n",
    "        #plt.plot(tel_position[0] + disp1_camera.x.value, tel_position[1] + disp1_camera.y.value, 'kx')\n",
    "        #plt.plot(tel_position[0] + disp1_camera.x.value, tel_position[1] + disp1_camera.y.value, 'bx')\n",
    "        #print(tel.source_x_prediction, tel.source_y_prediction)\n",
    "        #print(disp1_coords.x, disp1_coords.y)\n",
    "        #break\n",
    "        disp1_nom = disp1_camera.transform_to(nom_frame)\n",
    "        disp2_nom = disp2_camera.transform_to(nom_frame)  \n",
    "        camera_pointing_nom = camera_pointing.transform_to(nom_frame)\n",
    "        #plt.plot(tel_position[0], tel_position[1], 'ro')\n",
    "        #print(camera_pointing_nom)\n",
    "        plt.plot(disp1_nom.delta_alt.value, disp1_nom.delta_az.value, 'kx')\n",
    "        plt.plot(disp2_nom.delta_alt.value, disp2_nom.delta_az.value, 'rx')\n",
    "        plt.plot((disp1_nom.delta_alt.value, disp2_nom.delta_alt.value), (disp1_nom.delta_az.value, disp2_nom.delta_az.value), 'g-')\n",
    "        plt.plot(camera_pointing_nom.delta_alt.value, camera_pointing_nom.delta_az.value, 'bo')\n",
    "        alt_preds.append(disp1_nom.delta_alt.value)\n",
    "        alt_preds.append(disp2_nom.delta_alt.value)\n",
    "        az_preds.append(disp1_nom.delta_az.value)\n",
    "        az_preds.append(disp2_nom.delta_az.value)\n",
    "        i+=1\n",
    "    plt.plot(np.mean(alt_preds), np.mean(az_preds), 'mx')\n",
    "    plt.plot(np.median(alt_preds), np.median(az_preds), 'mo')\n",
    "    stereo_results = get_stereo_results(tel_events, tel_pointings, nom_frame)\n",
    "    plt.plot(stereo_results.source_alt_pairwise_median, stereo_results.source_az_pairwise_median, 'yo')\n",
    "    print(stereo_results)\n",
    "    ######## das alles muss jetzt wieder rücktransformiert werden nach altaz um\n",
    "    ######## brauchbare predictions zu haben!"
   ]
  },
  {
   "cell_type": "code",
   "execution_count": 444,
   "metadata": {},
   "outputs": [
    {
     "name": "stdout",
     "output_type": "stream",
     "text": [
      "   source_alt_pairwise_mean  source_az_pairwise_mean  \\\n",
      "0                  0.049778                -0.035852   \n",
      "\n",
      "   source_alt_pairwise_median  source_az_pairwise_median  num_pairs  \n",
      "0                    0.062066                  -0.040297         16  \n"
     ]
    },
    {
     "data": {
      "image/png": "[encoded data removed]",
      "text/plain": [
       "<Figure size 720x720 with 1 Axes>"
      ]
     },
     "metadata": {
      "needs_background": "light"
     },
     "output_type": "display_data"
    }
   ],
   "source": [
    "plot_event(test_event)"
   ]
  },
  {
   "cell_type": "code",
   "execution_count": 436,
   "metadata": {},
   "outputs": [],
   "source": [
    "def get_stereo_results(group, pointings, nom_frame):\n",
    "    predictions_alt = []\n",
    "    predictions_az = []\n",
    "    alt_disps = []\n",
    "    az_disps = []\n",
    "\n",
    "    tel_combinations = list(itertools.combinations(range(len(group)), 2))\n",
    "    for combination in tel_combinations:\n",
    "        candidate_1 = group.iloc[combination[0]]\n",
    "        candidate_2 = group.iloc[combination[1]]\n",
    "\n",
    "        disp1A = candidate_1[['source_x_prediction', 'source_y_position']]\n",
    "        disp1B = candidate_1[['source_x_prediction_2', 'source_y_position_2']]\n",
    "        disp2A = candidate_2[['source_x_prediction', 'source_y_position']]\n",
    "        disp2B = candidate_2[['source_x_prediction_2', 'source_y_position_2']]\n",
    "        ######## hier trafo in nominal frame einbauen und die als candidates nehmen!\n",
    "        camera_frame_1 = CameraFrame(\n",
    "            telescope_pointing=pointings[combination[0]],\n",
    "            focal_length=candidate_1.focal_length * u.m,\n",
    "        )\n",
    "        camera_frame_2 = CameraFrame(\n",
    "            telescope_pointing=pointings[combination[1]],\n",
    "            focal_length=candidate_2.focal_length * u.m,\n",
    "        )\n",
    "        \n",
    "\n",
    "        disp1A_nom = SkyCoord(\n",
    "            x=candidate_1.source_x_prediction*u.m,\n",
    "            y=candidate_1.source_y_prediction*u.m,\n",
    "            frame=camera_frame_1).transform_to(nom_frame)\n",
    "        disp1B_nom = SkyCoord(\n",
    "            x=candidate_1.source_x_prediction_2*u.m,\n",
    "            y=candidate_1.source_y_prediction_2*u.m,\n",
    "            frame=camera_frame_1).transform_to(nom_frame)\n",
    "        disp2A_nom = SkyCoord(\n",
    "            x=candidate_2.source_x_prediction*u.m,\n",
    "            y=candidate_2.source_y_prediction*u.m,\n",
    "            frame=camera_frame_1).transform_to(nom_frame)\n",
    "        disp2B_nom = SkyCoord(\n",
    "            x=candidate_2.source_x_prediction_2*u.m,\n",
    "            y=candidate_2.source_y_prediction_2*u.m,\n",
    "            frame=camera_frame_1).transform_to(nom_frame)\n",
    "\n",
    "        \n",
    "        ########\n",
    "        candidates = np.array([\n",
    "            (disp1A_nom.delta_alt.value, disp1A_nom.delta_az.value),\n",
    "            (disp1B_nom.delta_alt.value, disp1B_nom.delta_az.value),\n",
    "            (disp2A_nom.delta_alt.value, disp2A_nom.delta_az.value),\n",
    "            (disp2B_nom.delta_alt.value, disp2B_nom.delta_az.value)])\n",
    "        #print(1/0)\n",
    "\n",
    "        disp_combinations = itertools.combinations(range(4), 2)\n",
    "        min_distance = 10 * u.deg  # 0.22 in magic?\n",
    "\n",
    "        winner = None\n",
    "        for pair in disp_combinations:\n",
    "            #print(pair)\n",
    "            #print(candidates[pair[0]][1])\n",
    "\n",
    "            distance = angular_separation(\n",
    "                candidates[pair[0]][1] * u.rad,\n",
    "                candidates[pair[0]][0] * u.rad,\n",
    "                candidates[pair[1]][1] * u.rad,\n",
    "                candidates[pair[1]][0] * u.rad).to(u.deg)\n",
    "            #print(distance)\n",
    "            if distance < min_distance:\n",
    "                min_distance = distance\n",
    "                winner = pair\n",
    "\n",
    "        if winner:\n",
    "            alt_disps.append(candidates[winner[0]][0])\n",
    "            alt_disps.append(candidates[winner[1]][0])\n",
    "            az_disps.append(candidates[winner[0]][1])\n",
    "            az_disps.append(candidates[winner[1]][1])\n",
    "\n",
    "\n",
    "    result_df = pd.DataFrame()\n",
    "    if alt_disps and az_disps:\n",
    "        result_df['source_alt_pairwise_mean'] = [np.nanmean(alt_disps)]\n",
    "        result_df['source_az_pairwise_mean'] = [np.nanmean(az_disps)]\n",
    "        result_df['source_alt_pairwise_median'] = [np.nanmedian(alt_disps)]\n",
    "        result_df['source_az_pairwise_median'] = [np.nanmedian(az_disps)]\n",
    "    else:\n",
    "        result_df['source_alt_pairwise_mean'] = [np.nan]\n",
    "        result_df['source_az_pairwise_mean'] = [np.nan]\n",
    "        result_df['source_alt_pairwise_median'] = [np.nan]\n",
    "        result_df['source_az_pairwise_median'] = [np.nan]\n",
    "    result_df['num_pairs'] = len(alt_disps)\n",
    "    \n",
    "    return result_df\n"
   ]
  },
  {
   "cell_type": "code",
   "execution_count": null,
   "metadata": {},
   "outputs": [],
   "source": []
  },
  {
   "cell_type": "code",
   "execution_count": null,
   "metadata": {},
   "outputs": [],
   "source": []
  }
 ],
 "metadata": {
  "kernelspec": {
   "display_name": "Python 3",
   "language": "python",
   "name": "python3"
  },
  "language_info": {
   "codemirror_mode": {
    "name": "ipython",
    "version": 3
   },
   "file_extension": ".py",
   "mimetype": "text/x-python",
   "name": "python",
   "nbconvert_exporter": "python",
   "pygments_lexer": "ipython3",
   "version": "3.6.8"
  }
 },
 "nbformat": 4,
 "nbformat_minor": 4
}
